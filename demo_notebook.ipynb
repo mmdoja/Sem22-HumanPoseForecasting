{
 "cells": [
  {
   "cell_type": "markdown",
   "metadata": {},
   "source": [
    "# LAB - CUDA VISION SS 22"
   ]
  },
  {
   "cell_type": "markdown",
   "metadata": {},
   "source": [
    "Done by - \n",
    "- Qasid Saleem\n",
    "- Mohammad Munirud Doja\n",
    "- Omar Eldahshoury"
   ]
  },
  {
   "cell_type": "markdown",
   "metadata": {},
   "source": [
    "List of Key Required Modules - \n",
    "- pytorch -> 1.12.1\n",
    "- pytorch-lightning -> 1.7.7\n",
    "- scikit-learn -> 1.1.2\n",
    "- pytorch-msssim"
   ]
  },
  {
   "cell_type": "code",
   "execution_count": null,
   "metadata": {},
   "outputs": [],
   "source": [
    "#Ideally one can run this cell to install requirement\n",
    "! pip install -r requirements.txt"
   ]
  },
  {
   "cell_type": "markdown",
   "metadata": {},
   "source": [
    "<h3 id=import> Importing Modules </h3>"
   ]
  },
  {
   "cell_type": "code",
   "execution_count": 1,
   "metadata": {},
   "outputs": [],
   "source": [
    "import argparse\n",
    "import os\n",
    "import sys\n",
    "import pprint\n",
    "\n",
    "import numpy as np\n",
    "import pytorch_lightning as pl\n",
    "from pytorch_lightning import loggers as pl_loggers\n",
    "import torch\n",
    "\n",
    "from data import Human2dJoints, HumanHeatmaps\n",
    "from models import StateSpace2dJoints\n",
    "import utils\n",
    "from visualization import plot_pred_2d\n",
    "from data import Human36_data_module\n",
    "from lit_models import LitModule\n",
    "\n",
    "from lit_models import un_normalize_joints"
   ]
  },
  {
   "cell_type": "markdown",
   "metadata": {},
   "source": [
    "<h3 id=\"skeleton\">Project Skeleton</h3>"
   ]
  },
  {
   "cell_type": "markdown",
   "metadata": {},
   "source": [
    "<p id=\"general\">The general structure of project is as follows:>\n"
   ]
  },
  {
   "cell_type": "markdown",
   "metadata": {},
   "source": [
    "<span style='font-family:courier'><p1><left>\n",
    "&emsp;|── H36PoseForecasting<br>\n",
    "   &emsp;&emsp; |── configs ,..... <br>\n",
    "   &emsp;&emsp; |── constants ,..... <br>\n",
    "   &emsp;&emsp; |── checkpoints<br>\n",
    "   &emsp;&emsp; |── data ,..... <br>\n",
    "   &emsp;&emsp; |── data_folder<br>\n",
    "        &emsp;&emsp;&emsp; |── h36m_train.pkl<br>\n",
    "        &emsp;&emsp;&emsp; |── h36m_validation.pkl<br>\n",
    "   &emsp;&emsp; |── lit_models ,..... <br>\n",
    "   &emsp;&emsp; |── models ,..... <br>\n",
    "   &emsp;&emsp; |── visualization<br>\n",
    "   &emsp;&emsp; |── run_experiment.py<br>\n",
    "   &emsp;&emsp; |── test.py<br>\n",
    "   &emsp;&emsp; |── tune_hyperparameters.py<br>\n",
    "   &emsp;&emsp; |── utils.py<br>\n",
    "    </left>\n",
    "    </p1>\n",
    "    </span>"
   ]
  },
  {
   "cell_type": "markdown",
   "metadata": {},
   "source": [
    "We declare some constants here like data_dir, working_dir, but please change them in constants/__init__.py file before running run_experiment.py, test.py file and tune_hyperparams.py file"
   ]
  },
  {
   "cell_type": "markdown",
   "metadata": {},
   "source": [
    "The data is not uploaded on github but it is available on google drive https://drive.google.com/drive/folders/1XE6crQ57Cfv9rNCmjGGTbcl0XsMddnlP?usp=sharing\n",
    "for ease one can run the cell below to download it\n"
   ]
  },
  {
   "cell_type": "code",
   "execution_count": 4,
   "metadata": {},
   "outputs": [
    {
     "name": "stdout",
     "output_type": "stream",
     "text": [
      "/home/user/saleemq0/project/H36Pose/H36PoseForecasting/data_folder\n",
      "--2022-09-30 04:51:54--  https://docs.google.com/uc?export=download&confirm=t&id=1PJ3B2QiFrCJzSPM04Fo-U-u7xCxVua6c\n",
      "Resolving docs.google.com (docs.google.com)... 142.250.74.206, 2a00:1450:4001:803::200e\n",
      "Connecting to docs.google.com (docs.google.com)|142.250.74.206|:443... connected.\n",
      "HTTP request sent, awaiting response... 303 See Other\n",
      "Location: https://doc-0g-as-docs.googleusercontent.com/docs/securesc/ha0ro937gcuc7l7deffksulhg5h7mbp1/p7kvttdhsj446emaoe5i31rm5f372hcl/1664506275000/09334462889734958336/*/1PJ3B2QiFrCJzSPM04Fo-U-u7xCxVua6c?e=download&uuid=a5976353-1f96-498e-95f3-2f31c720f0e5 [following]\n",
      "Warning: wildcards not supported in HTTP.\n",
      "--2022-09-30 04:51:55--  https://doc-0g-as-docs.googleusercontent.com/docs/securesc/ha0ro937gcuc7l7deffksulhg5h7mbp1/p7kvttdhsj446emaoe5i31rm5f372hcl/1664506275000/09334462889734958336/*/1PJ3B2QiFrCJzSPM04Fo-U-u7xCxVua6c?e=download&uuid=a5976353-1f96-498e-95f3-2f31c720f0e5\n",
      "Resolving doc-0g-as-docs.googleusercontent.com (doc-0g-as-docs.googleusercontent.com)... 172.217.16.129, 2a00:1450:4001:808::2001\n",
      "Connecting to doc-0g-as-docs.googleusercontent.com (doc-0g-as-docs.googleusercontent.com)|172.217.16.129|:443... connected.\n",
      "HTTP request sent, awaiting response... 200 OK\n",
      "Length: 3043985786 (2,8G) [application/octet-stream]\n",
      "Saving to: ‘h36m_train.zip’\n",
      "\n",
      "h36m_train.zip      100%[===================>]   2,83G   112MB/s    in 28s     \n",
      "\n",
      "2022-09-30 04:52:23 (104 MB/s) - ‘h36m_train.zip’ saved [3043985786/3043985786]\n",
      "\n",
      "--2022-09-30 04:52:24--  https://docs.google.com/uc?export=download&confirm=t&id=1WvjvvagWv2BgU57OR1P8YbaulBAtmfMC\n",
      "Resolving docs.google.com (docs.google.com)... 142.250.74.206, 2a00:1450:4001:803::200e\n",
      "Connecting to docs.google.com (docs.google.com)|142.250.74.206|:443... connected.\n",
      "HTTP request sent, awaiting response... 303 See Other\n",
      "Location: https://doc-0k-as-docs.googleusercontent.com/docs/securesc/ha0ro937gcuc7l7deffksulhg5h7mbp1/1kb42n9tceb7k71ch3r0mc13q1i71jdh/1664506275000/09334462889734958336/*/1WvjvvagWv2BgU57OR1P8YbaulBAtmfMC?e=download&uuid=627c3408-c6f8-4147-a6e2-8e2516d33b96 [following]\n",
      "Warning: wildcards not supported in HTTP.\n",
      "--2022-09-30 04:52:24--  https://doc-0k-as-docs.googleusercontent.com/docs/securesc/ha0ro937gcuc7l7deffksulhg5h7mbp1/1kb42n9tceb7k71ch3r0mc13q1i71jdh/1664506275000/09334462889734958336/*/1WvjvvagWv2BgU57OR1P8YbaulBAtmfMC?e=download&uuid=627c3408-c6f8-4147-a6e2-8e2516d33b96\n",
      "Resolving doc-0k-as-docs.googleusercontent.com (doc-0k-as-docs.googleusercontent.com)... 172.217.16.129, 2a00:1450:4001:808::2001\n",
      "Connecting to doc-0k-as-docs.googleusercontent.com (doc-0k-as-docs.googleusercontent.com)|172.217.16.129|:443... connected.\n",
      "HTTP request sent, awaiting response... 200 OK\n",
      "Length: 1074866105 (1,0G) [application/octet-stream]\n",
      "Saving to: ‘h36m_validation.zip’\n",
      "\n",
      "h36m_validation.zip 100%[===================>]   1,00G  84,3MB/s    in 12s     \n",
      "\n",
      "2022-09-30 04:52:37 (83,7 MB/s) - ‘h36m_validation.zip’ saved [1074866105/1074866105]\n",
      "\n",
      "Archive:  h36m_train.zip\n",
      "  End-of-central-directory signature not found.  Either this file is not\n",
      "  a zipfile, or it constitutes one disk of a multi-part archive.  In the\n",
      "  latter case the central directory and zipfile comment will be found on\n",
      "  the last disk(s) of this archive.\n",
      "unzip:  cannot find zipfile directory in one of h36m_train.zip or\n",
      "        h36m_train.zip.zip, and cannot find h36m_train.zip.ZIP, period.\n",
      "Archive:  h36m_validation.zip\n",
      "  End-of-central-directory signature not found.  Either this file is not\n",
      "  a zipfile, or it constitutes one disk of a multi-part archive.  In the\n",
      "  latter case the central directory and zipfile comment will be found on\n",
      "  the last disk(s) of this archive.\n",
      "unzip:  cannot find zipfile directory in one of h36m_validation.zip or\n",
      "        h36m_validation.zip.zip, and cannot find h36m_validation.zip.ZIP, period.\n"
     ]
    }
   ],
   "source": [
    "import pathlib\n",
    "pathlib.Path(\"./data_folder\").mkdir(parents=True, exist_ok=True)\n",
    "%cd data_folder\n",
    "!wget --load-cookies /tmp/cookies.txt \"https://docs.google.com/uc?export=download&confirm=$(wget --quiet --save-cookies /tmp/cookies.txt --keep-session-cookies --no-check-certificate 'https://docs.google.com/uc?export=download&id=1PJ3B2QiFrCJzSPM04Fo-U-u7xCxVua6c' -O- | sed -rn 's/.*confirm=([0-9A-Za-z_]+).*/\\1\\n/p')&id=1PJ3B2QiFrCJzSPM04Fo-U-u7xCxVua6c\" -O  h36m_train.pkl && rm -rf /tmp/cookies.txt\n",
    "!wget --load-cookies /tmp/cookies.txt \"https://docs.google.com/uc?export=download&confirm=$(wget --quiet --save-cookies /tmp/cookies.txt --keep-session-cookies --no-check-certificate 'https://docs.google.com/uc?export=download&id=1WvjvvagWv2BgU57OR1P8YbaulBAtmfMC' -O- | sed -rn 's/.*confirm=([0-9A-Za-z_]+).*/\\1\\n/p')&id=1WvjvvagWv2BgU57OR1P8YbaulBAtmfMC\" -O  h36m_validation.pkl && rm -rf /tmp/cookies.txt\n",
    "!unzip h36m_train.zip\n",
    "!unzip h36m_validation.zip\n",
    "%cd ..\n"
   ]
  },
  {
   "cell_type": "markdown",
   "metadata": {},
   "source": [
    "Loading model and the data set"
   ]
  },
  {
   "cell_type": "code",
   "execution_count": 2,
   "metadata": {},
   "outputs": [
    {
     "name": "stdout",
     "output_type": "stream",
     "text": [
      "{   'data': {   'batch_size': 64,\n",
      "                'dataset': 'joints',\n",
      "                'n_seqs': 20,\n",
      "                's_fname': 'scaler.joblib',\n",
      "                's_type': 'normalize',\n",
      "                'shuffle_data': True,\n",
      "                'train_file': './data_folder/h36m_train.pkl',\n",
      "                'valid_file': './data_folder/h36m_validation.pkl'},\n",
      "    'description': 'basic state space model',\n",
      "    'loss': 'L1Loss',\n",
      "    'lr': 0.001344,\n",
      "    'model': {   'cell_type': 'LSTM',\n",
      "                 'decoder_fixed_input': False,\n",
      "                 'encoder_layers': [32],\n",
      "                 'input_dim': 34,\n",
      "                 'n_cells': 2,\n",
      "                 'n_seeds': 10,\n",
      "                 'name': 'StateSpace2dJoints',\n",
      "                 'residual_step': True,\n",
      "                 'rnn_dim': 32}}\n"
     ]
    }
   ],
   "source": [
    "# The whole project is desingned around argparse\n",
    "args = {}\n",
    "# Path of a JSON configuration file\n",
    "# Tell which model and which data set to use\n",
    "# along with their parameters\n",
    "# Check configs folder\n",
    "data_dir = \"./data_folder\"\n",
    "args[\"config\"] = \"./configs/joints/statespace.json\"\n",
    "args[\"config\"] = utils.get_config(args)\n",
    "args[\"config\"][\"data\"][\"train_file\"] = f'{data_dir}/{args[\"config\"][\"data\"][\"train_file\"]}'\n",
    "args[\"config\"][\"data\"][\"valid_file\"] = f'{data_dir}/{args[\"config\"][\"data\"][\"valid_file\"]}'\n",
    "pp = pprint.PrettyPrinter(indent=4)\n",
    "pp.pprint(args[\"config\"])\n"
   ]
  },
  {
   "cell_type": "code",
   "execution_count": 9,
   "metadata": {},
   "outputs": [
    {
     "name": "stderr",
     "output_type": "stream",
     "text": [
      "grouping data into videos: 100%|██████████| 1559752/1559752 [00:00<00:00, 2300915.73it/s]\n",
      "creating joint sequences: 100%|██████████| 600/600 [00:00<00:00, 1882.18it/s]\n",
      "creating sequences of size 20: 100%|██████████| 600/600 [00:00<00:00, 6111.52it/s]\n",
      "unrolling joint vectors: 100%|██████████| 9448/9448 [00:00<00:00, 64546.78it/s]\n"
     ]
    }
   ],
   "source": [
    "data = Human2dJoints(\n",
    "                data_file=args[\"config\"][\"data\"][\"train_file\"],\n",
    "                mode=\"train\",\n",
    "                **args[\"config\"][\"data\"]\n",
    ")\n"
   ]
  },
  {
   "cell_type": "code",
   "execution_count": 20,
   "metadata": {},
   "outputs": [],
   "source": [
    "model = StateSpace2dJoints(**args[\"config\"][\"model\"])"
   ]
  },
  {
   "cell_type": "markdown",
   "metadata": {},
   "source": [
    "We are using pytorch lightning to train and test models, there are three key things that we need:\n",
    "1. Data Module (It create the torch datasets objects and is used to get the data loaders)\n",
    "2. Lightning Module (It is an interface over the torch model, it has boilerplate to train, validate, and test the model)\n",
    "3. Trainer (It takes the Data Module and lightning module as arguments and performs the training and testing)"
   ]
  },
  {
   "cell_type": "code",
   "execution_count": 32,
   "metadata": {},
   "outputs": [],
   "source": [
    "# Creating data module object\n",
    "# num of workers for dataloaders\n",
    "args[\"num_workers\"] = 2\n",
    "args[\"optimizer\"] = \"Adam\"\n",
    "args[\"loss\"] = \"MSELoss\"\n",
    "args[\"lr\"] = 1e-3\n",
    "\n",
    "data_module = Human36_data_module(args)\n",
    "lit_model = LitModule(model, args)"
   ]
  },
  {
   "cell_type": "code",
   "execution_count": 3,
   "metadata": {},
   "outputs": [],
   "source": [
    "# can be done using a util function\n",
    "args[\"num_workers\"] = 2\n",
    "args[\"optimizer\"] = \"Adam\"\n",
    "args[\"loss\"] = \"MSELoss\"\n",
    "args[\"lr\"] = 1e-3\n",
    "args[\"config\"] = \"./configs/joints/statespace.json\"\n",
    "args[\"exp_name\"] = \"demo_model\"\n",
    "data_module,lit_model, args = utils.setup_data_and_model_from_args(args)"
   ]
  },
  {
   "cell_type": "code",
   "execution_count": 6,
   "metadata": {},
   "outputs": [
    {
     "name": "stderr",
     "output_type": "stream",
     "text": [
      "GPU available: True (cuda), used: False\n",
      "TPU available: False, using: 0 TPU cores\n",
      "IPU available: False, using: 0 IPUs\n",
      "HPU available: False, using: 0 HPUs\n",
      "/home/user/saleemq0/assignment_8/env/lib/python3.8/site-packages/pytorch_lightning/trainer/trainer.py:1764: PossibleUserWarning: GPU available but not used. Set `accelerator` and `devices` using `Trainer(accelerator='gpu', devices=1)`.\n",
      "  rank_zero_warn(\n"
     ]
    }
   ],
   "source": [
    "# Now let's define a trainer\n",
    "args[\"accelerator\"] = \"cpu\" # can be gpu\n",
    "args[\"devices\"] = 1 # number of gpus/cpus\n",
    "args[\"num_epochs\"] = 1\n",
    " \n",
    "trainer = pl.Trainer(\n",
    "    accelerator=args[\"accelerator\"],\n",
    "    devices=args[\"devices\"],\n",
    "    max_epochs=args[\"num_epochs\"],\n",
    ")"
   ]
  },
  {
   "cell_type": "code",
   "execution_count": 7,
   "metadata": {},
   "outputs": [
    {
     "name": "stderr",
     "output_type": "stream",
     "text": [
      "Missing logger folder: /home/user/saleemq0/project/H36Pose/H36PoseForecasting/lightning_logs\n",
      "grouping data into videos: 100%|██████████| 1559752/1559752 [00:00<00:00, 2268538.23it/s]\n",
      "creating joint sequences: 100%|██████████| 600/600 [00:00<00:00, 1709.65it/s]\n",
      "creating sequences of size 20: 100%|██████████| 600/600 [00:00<00:00, 5511.99it/s]\n",
      "unrolling joint vectors: 100%|██████████| 9448/9448 [00:00<00:00, 65471.90it/s]\n",
      "grouping data into videos: 100%|██████████| 550644/550644 [00:00<00:00, 2351344.67it/s]\n",
      "creating joint sequences: 100%|██████████| 240/240 [00:00<00:00, 2098.39it/s]\n",
      "creating sequences of size 20: 100%|██████████| 240/240 [00:00<00:00, 7296.03it/s]\n",
      "unrolling joint vectors: 100%|██████████| 3324/3324 [00:00<00:00, 70658.27it/s]\n",
      "\n",
      "  | Name    | Type               | Params\n",
      "-----------------------------------------------\n",
      "0 | model   | StateSpace2dJoints | 56.4 K\n",
      "1 | loss_fn | L1Loss             | 0     \n",
      "-----------------------------------------------\n",
      "56.4 K    Trainable params\n",
      "0         Non-trainable params\n",
      "56.4 K    Total params\n",
      "0.225     Total estimated model params size (MB)\n"
     ]
    },
    {
     "data": {
      "application/vnd.jupyter.widget-view+json": {
       "model_id": "fa764aa193f0409d934bc83b7f054626",
       "version_major": 2,
       "version_minor": 0
      },
      "text/plain": [
       "Sanity Checking: 0it [00:00, ?it/s]"
      ]
     },
     "metadata": {},
     "output_type": "display_data"
    },
    {
     "name": "stderr",
     "output_type": "stream",
     "text": [
      "/home/user/saleemq0/assignment_8/env/lib/python3.8/site-packages/pytorch_lightning/trainer/connectors/data_connector.py:236: PossibleUserWarning: The dataloader, val_dataloader 0, does not have many workers which may be a bottleneck. Consider increasing the value of the `num_workers` argument` (try 12 which is the number of cpus on this machine) in the `DataLoader` init to improve performance.\n",
      "  rank_zero_warn(\n",
      "/home/user/saleemq0/assignment_8/env/lib/python3.8/site-packages/pytorch_lightning/trainer/connectors/data_connector.py:236: PossibleUserWarning: The dataloader, train_dataloader, does not have many workers which may be a bottleneck. Consider increasing the value of the `num_workers` argument` (try 12 which is the number of cpus on this machine) in the `DataLoader` init to improve performance.\n",
      "  rank_zero_warn(\n"
     ]
    },
    {
     "data": {
      "application/vnd.jupyter.widget-view+json": {
       "model_id": "df967e8692c844b584058c5f43ff1872",
       "version_major": 2,
       "version_minor": 0
      },
      "text/plain": [
       "Training: 0it [00:00, ?it/s]"
      ]
     },
     "metadata": {},
     "output_type": "display_data"
    },
    {
     "data": {
      "application/vnd.jupyter.widget-view+json": {
       "model_id": "2a18c47c3ce646c998fb2d36e171c83b",
       "version_major": 2,
       "version_minor": 0
      },
      "text/plain": [
       "Validation: 0it [00:00, ?it/s]"
      ]
     },
     "metadata": {},
     "output_type": "display_data"
    },
    {
     "name": "stderr",
     "output_type": "stream",
     "text": [
      "`Trainer.fit` stopped: `max_epochs=1` reached.\n"
     ]
    }
   ],
   "source": [
    "# Train model\n",
    "trainer.fit(\n",
    "    lit_model,\n",
    "    data_module\n",
    ")"
   ]
  },
  {
   "cell_type": "code",
   "execution_count": 10,
   "metadata": {},
   "outputs": [
    {
     "name": "stderr",
     "output_type": "stream",
     "text": [
      "grouping data into videos: 100%|██████████| 1559752/1559752 [00:00<00:00, 2552193.78it/s]\n",
      "creating joint sequences: 100%|██████████| 600/600 [00:00<00:00, 1881.43it/s]\n",
      "creating sequences of size 20: 100%|██████████| 600/600 [00:00<00:00, 6047.66it/s]\n",
      "unrolling joint vectors: 100%|██████████| 9448/9448 [00:00<00:00, 71368.62it/s]\n",
      "grouping data into videos: 100%|██████████| 550644/550644 [00:00<00:00, 2347332.21it/s]\n",
      "creating joint sequences: 100%|██████████| 240/240 [00:00<00:00, 2090.90it/s]\n",
      "creating sequences of size 20: 100%|██████████| 240/240 [00:00<00:00, 7283.41it/s]\n",
      "unrolling joint vectors: 100%|██████████| 3324/3324 [00:00<00:00, 68150.73it/s]\n",
      "/home/user/saleemq0/assignment_8/env/lib/python3.8/site-packages/pytorch_lightning/trainer/connectors/data_connector.py:236: PossibleUserWarning: The dataloader, test_dataloader 0, does not have many workers which may be a bottleneck. Consider increasing the value of the `num_workers` argument` (try 12 which is the number of cpus on this machine) in the `DataLoader` init to improve performance.\n",
      "  rank_zero_warn(\n"
     ]
    },
    {
     "data": {
      "application/vnd.jupyter.widget-view+json": {
       "model_id": "bf8ff084ded443bb92a397e48f8198ca",
       "version_major": 2,
       "version_minor": 0
      },
      "text/plain": [
       "Testing: 0it [00:00, ?it/s]"
      ]
     },
     "metadata": {},
     "output_type": "display_data"
    },
    {
     "name": "stdout",
     "output_type": "stream",
     "text": [
      "────────────────────────────────────────────────────────────────────────────────────────────────────────────────────────\n",
      "       Test metric             DataLoader 0\n",
      "────────────────────────────────────────────────────────────────────────────────────────────────────────────────────────\n",
      "        test_MAE            23.593809127807617\n",
      "       test_MPJPE           39.323143005371094\n",
      "        test_MSE             1892.683837890625\n",
      "        test_PCK             52.83746337890625\n",
      "        test_loss          0.024733783677220345\n",
      "────────────────────────────────────────────────────────────────────────────────────────────────────────────────────────\n"
     ]
    },
    {
     "data": {
      "text/plain": [
       "[{'test_loss': 0.024733783677220345,\n",
       "  'test_MSE': 1892.683837890625,\n",
       "  'test_MAE': 23.593809127807617,\n",
       "  'test_MPJPE': 39.323143005371094,\n",
       "  'test_PCK': 52.83746337890625}]"
      ]
     },
     "execution_count": 10,
     "metadata": {},
     "output_type": "execute_result"
    }
   ],
   "source": [
    "# Test model\n",
    "trainer.test(lit_model, data_module.val_dataloader())"
   ]
  },
  {
   "cell_type": "code",
   "execution_count": 12,
   "metadata": {},
   "outputs": [
    {
     "name": "stderr",
     "output_type": "stream",
     "text": [
      "grouping data into videos: 100%|██████████| 1559752/1559752 [00:00<00:00, 2430680.34it/s]\n",
      "creating joint sequences: 100%|██████████| 600/600 [00:00<00:00, 1754.51it/s]\n",
      "creating sequences of size 20: 100%|██████████| 600/600 [00:00<00:00, 5753.70it/s]\n",
      "unrolling joint vectors: 100%|██████████| 9448/9448 [00:00<00:00, 71733.45it/s]\n",
      "grouping data into videos: 100%|██████████| 550644/550644 [00:00<00:00, 2382093.55it/s]\n",
      "creating joint sequences: 100%|██████████| 240/240 [00:00<00:00, 2120.69it/s]\n",
      "creating sequences of size 20: 100%|██████████| 240/240 [00:00<00:00, 7329.44it/s]\n",
      "unrolling joint vectors: 100%|██████████| 3324/3324 [00:00<00:00, 71390.58it/s]\n",
      "/home/user/saleemq0/assignment_8/env/lib/python3.8/site-packages/pytorch_lightning/trainer/connectors/data_connector.py:236: PossibleUserWarning: The dataloader, predict_dataloader 0, does not have many workers which may be a bottleneck. Consider increasing the value of the `num_workers` argument` (try 12 which is the number of cpus on this machine) in the `DataLoader` init to improve performance.\n",
      "  rank_zero_warn(\n"
     ]
    },
    {
     "data": {
      "application/vnd.jupyter.widget-view+json": {
       "model_id": "6e1f178302d74415997c6327d040981f",
       "version_major": 2,
       "version_minor": 0
      },
      "text/plain": [
       "Predicting: 148it [00:00, ?it/s]"
      ]
     },
     "metadata": {},
     "output_type": "display_data"
    }
   ],
   "source": [
    "# Do inference\n",
    "predictions = trainer.predict(lit_model, data_module.val_dataloader())"
   ]
  },
  {
   "cell_type": "code",
   "execution_count": 14,
   "metadata": {},
   "outputs": [],
   "source": [
    "predictions = torch.vstack(predictions)"
   ]
  },
  {
   "cell_type": "code",
   "execution_count": 17,
   "metadata": {},
   "outputs": [],
   "source": [
    "predictions = un_normalize_joints(args, predictions)"
   ]
  },
  {
   "cell_type": "code",
   "execution_count": 18,
   "metadata": {},
   "outputs": [],
   "source": [
    "predictions = predictions.numpy()"
   ]
  },
  {
   "cell_type": "code",
   "execution_count": 19,
   "metadata": {},
   "outputs": [
    {
     "data": {
      "image/png": "[encoded data removed]",
      "text/plain": [
       "<Figure size 1440x720 with 30 Axes>"
      ]
     },
     "metadata": {
      "needs_background": "light"
     },
     "output_type": "display_data"
    }
   ],
   "source": [
    "# Each prediction has 30 frames 10 seeds, 10 targets and 10 prediction\n",
    "idx = 0\n",
    "pred_to_plot = predictions[idx]\n",
    "seeds = pred_to_plot[0:10]\n",
    "gt = pred_to_plot[10:20]\n",
    "pred = pred_to_plot[20:]\n",
    "fig = plot_pred_2d(seeds, gt, pred)"
   ]
  },
  {
   "cell_type": "markdown",
   "metadata": {},
   "source": [
    "The steps discussed were manual step but one can train and test\n",
    "model using a single command\n"
   ]
  },
  {
   "cell_type": "code",
   "execution_count": 21,
   "metadata": {},
   "outputs": [
    {
     "name": "stdout",
     "output_type": "stream",
     "text": [
      "Global seed set to 42\n",
      "usage: run_experiment.py [-h] [--config CONFIG] [--num_epochs NUM_EPOCHS]\n",
      "                         [--load_checkpoint LOAD_CHECKPOINT]\n",
      "                         [--optimizer OPTIMIZER] [--wandb] [--lr LR]\n",
      "                         [--loss {MSELoss,L1Loss,SSIMLoss}]\n",
      "                         [--one_cycle_max_lr ONE_CYCLE_MAX_LR]\n",
      "                         [--one_cycle_total_steps ONE_CYCLE_TOTAL_STEPS]\n",
      "                         [--use_es] [--n_checkpoints N_CHECKPOINTS]\n",
      "                         [--patience PATIENCE] [--mode {min,max}]\n",
      "                         [--monitor {val_loss,train_loss,val_PCK}]\n",
      "                         [--exp_name EXP_NAME] [--accelerator ACCELERATOR]\n",
      "                         [--devices DEVICES] [--num_workers NUM_WORKERS]\n",
      "                         [--pin_memory PIN_MEMORY]\n",
      "                         [--project_name PROJECT_NAME]\n",
      "\n",
      "optional arguments:\n",
      "  -h, --help            show this help message and exit\n",
      "  --config CONFIG       JSON config file\n",
      "  --num_epochs NUM_EPOCHS\n",
      "                        number of epochs\n",
      "  --load_checkpoint LOAD_CHECKPOINT\n",
      "                        If passed, loads a model from the provided path.\n",
      "  --optimizer OPTIMIZER\n",
      "                        Optimizer\n",
      "  --wandb               If passed, logs experiment results to Weights &\n",
      "                        Biases. Otherwise logs only to local Tensorboard.\n",
      "  --lr LR               Learning Rate\n",
      "  --loss {MSELoss,L1Loss,SSIMLoss}\n",
      "                        Loss Function\n",
      "  --one_cycle_max_lr ONE_CYCLE_MAX_LR\n",
      "  --one_cycle_total_steps ONE_CYCLE_TOTAL_STEPS\n",
      "  --use_es              use early stopping or not\n",
      "  --n_checkpoints N_CHECKPOINTS\n",
      "                        number of checkpoints\n",
      "  --patience PATIENCE   patience for early stopping/checkpointing\n",
      "  --mode {min,max}      mode for early stopping/checkpointing\n",
      "  --monitor {val_loss,train_loss,val_PCK}\n",
      "                        monitor for early stopping/checkpointing\n",
      "  --exp_name EXP_NAME   experiment name\n",
      "  --accelerator ACCELERATOR\n",
      "                        accelerator\n",
      "  --devices DEVICES     number of devices\n",
      "  --num_workers NUM_WORKERS\n",
      "                        Number of workers for dataloaders\n",
      "  --pin_memory PIN_MEMORY\n",
      "                        pin memory for dataloader\n",
      "  --project_name PROJECT_NAME\n",
      "                        W and b proj name\n"
     ]
    }
   ],
   "source": [
    "# for training you have run run_experiment.py file\n",
    "!python3 run_experiment.py --help"
   ]
  },
  {
   "cell_type": "markdown",
   "metadata": {},
   "source": [
    "There are a lot of parameters, we are using weights and baises\n",
    "for experiment monitoring. To do the set you just have to use --wandb flag and provide the project_name. An example command is given below:"
   ]
  },
  {
   "cell_type": "code",
   "execution_count": null,
   "metadata": {},
   "outputs": [],
   "source": [
    "!python3 run_experiment.py --config=\"./configs/heatmaps/autoregressive.json\" \\\n",
    " --exp_name=\"heatmaps_autoregressive_best_config\"\\\n",
    " --num_workers=4 --wandb --num_epochs=50 --devices=1\n",
    "\n",
    " # devices can be > 1 if you want to do multi-gpu training"
   ]
  },
  {
   "cell_type": "markdown",
   "metadata": {},
   "source": [
    "For testing you need a trained checkpoint and a config file \n",
    "for ease you can provide the same config file the one that was used in training. --save_visuals is provided 10 random prediction will be shown in checkpoint/model/exp_name/images directory\n"
   ]
  },
  {
   "cell_type": "code",
   "execution_count": 2,
   "metadata": {},
   "outputs": [
    {
     "name": "stdout",
     "output_type": "stream",
     "text": [
      "Global seed set to 42\n",
      "usage: test.py [-h] [--config CONFIG] [--checkpoint CHECKPOINT]\n",
      "               [--optimizer OPTIMIZER] [--wandb] [--save_preds]\n",
      "               [--save_visuals] [--lr LR] [--loss {MSELoss,L1Loss,SSIMLoss}]\n",
      "               [--exp_name EXP_NAME] [--accelerator ACCELERATOR]\n",
      "               [--devices DEVICES] [--num_workers NUM_WORKERS]\n",
      "               [--pin_memory PIN_MEMORY] [--project_name PROJECT_NAME]\n",
      "               [--wandb_id WANDB_ID]\n",
      "\n",
      "optional arguments:\n",
      "  -h, --help            show this help message and exit\n",
      "  --config CONFIG       JSON config file\n",
      "  --checkpoint CHECKPOINT\n",
      "                        path of the model checkpoint\n",
      "  --optimizer OPTIMIZER\n",
      "                        Optimizer\n",
      "  --wandb               If passed, logs experiment results to Weights & Biases\n",
      "  --save_preds          If passed predictions are saved as a numpy array\n",
      "  --save_visuals        If passed 10 random result images are saved\n",
      "  --lr LR               Learning Rate\n",
      "  --loss {MSELoss,L1Loss,SSIMLoss}\n",
      "                        Loss Function\n",
      "  --exp_name EXP_NAME   experiment name\n",
      "  --accelerator ACCELERATOR\n",
      "                        accelerator\n",
      "  --devices DEVICES     number of gpu devices\n",
      "  --num_workers NUM_WORKERS\n",
      "                        Number of workers for dataloaders\n",
      "  --pin_memory PIN_MEMORY\n",
      "                        pin memory for dataloader\n",
      "  --project_name PROJECT_NAME\n",
      "                        W and b project name\n",
      "  --wandb_id WANDB_ID   W and b run id to log in the same run\n"
     ]
    }
   ],
   "source": [
    "!python3 test.py --help"
   ]
  },
  {
   "cell_type": "code",
   "execution_count": 3,
   "metadata": {},
   "outputs": [],
   "source": [
    "# Example if one want to explore predictions\n",
    "checkpoint_path = \"\"\n",
    "args = {\n",
    "   \"config\": \"./configs/joints/autoregressive.json\",\n",
    "    \"exp_name\": \"joints_autoregressive_best_config\",\n",
    "    \"loss\": \"MSELoss\",\n",
    "    \"optimizer\": \"Adam\",\n",
    "    \"num_workers\": 4,\n",
    "    \"checkpoint\": checkpoint_path,\n",
    "    \"save_preds\": True,\n",
    "    \"save_visuals\": True,\n",
    "    \"wandb\": True,\n",
    "    \"project_name\": \"CUDALAB\",\n",
    "    \"wandb_id\": False\n",
    "}\n",
    "from test import run_test\n",
    "predictions = run_test(args)"
   ]
  },
  {
   "cell_type": "code",
   "execution_count": null,
   "metadata": {},
   "outputs": [],
   "source": [
    "# or\n",
    "!python3 test.py --exp_name=\"joints_autoregressive_best_config\" \\\n",
    "    --config=\"./configs/heatmaps/autoregressive.json\" \\\n",
    "    --exp_name=\"heatmaps_autoregressive_best_config\" \\\n",
    "    --save_preds --save_visuals --wandb\n"
   ]
  },
  {
   "cell_type": "code",
   "execution_count": null,
   "metadata": {},
   "outputs": [],
   "source": [
    "# The project also has hyperparameter tunining functionality\n",
    "# we use weights and baises sweeps\n",
    "!python3 tune_hyperparams.py \\\n",
    "--config=\"./configs/joints/statespace.json\"\\\n",
    "--exp_name=\"joints_state_space_wandb_sweep\"\\\n",
    "--num_workers=4 --num_runs=1 --num_epochs=200\n",
    "\n",
    "#num_runs means how many experiments one wants to do"
   ]
  }
 ],
 "metadata": {
  "kernelspec": {
   "display_name": "env",
   "language": "python",
   "name": "env"
  },
  "language_info": {
   "codemirror_mode": {
    "name": "ipython",
    "version": 3
   },
   "file_extension": ".py",
   "mimetype": "text/x-python",
   "name": "python",
   "nbconvert_exporter": "python",
   "pygments_lexer": "ipython3",
   "version": "3.8.10"
  },
  "orig_nbformat": 4
 },
 "nbformat": 4,
 "nbformat_minor": 2
}
